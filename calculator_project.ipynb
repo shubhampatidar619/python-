{
 "cells": [
  {
   "cell_type": "code",
   "execution_count": 7,
   "id": "63297640-6a5a-4a1c-9411-64ff78e93549",
   "metadata": {},
   "outputs": [
    {
     "name": "stdout",
     "output_type": "stream",
     "text": [
      "Requirement already satisfied: art in c:\\users\\shubh\\anaconda3\\lib\\site-packages (6.2)\n"
     ]
    }
   ],
   "source": [
    "!pip install art"
   ]
  },
  {
   "cell_type": "code",
   "execution_count": 9,
   "id": "5ecd0ac5-2d02-4c2f-8f78-0bd87ba86c64",
   "metadata": {},
   "outputs": [],
   "source": [
    "from art import *"
   ]
  },
  {
   "cell_type": "code",
   "execution_count": 11,
   "id": "93a530ba-32d0-4355-8dbd-3469e0a3badb",
   "metadata": {},
   "outputs": [
    {
     "name": "stdout",
     "output_type": "stream",
     "text": [
      "              _               _         _                \n",
      "  ___   __ _ | |  ___  _   _ | |  __ _ | |_   ___   _ __ \n",
      " / __| / _` || | / __|| | | || | / _` || __| / _ \\ | '__|\n",
      "| (__ | (_| || || (__ | |_| || || (_| || |_ | (_) || |   \n",
      " \\___| \\__,_||_| \\___| \\__,_||_| \\__,_| \\__| \\___/ |_|   \n",
      "                                                         \n",
      "\n"
     ]
    }
   ],
   "source": [
    "tprint(\"calculator\")"
   ]
  },
  {
   "cell_type": "code",
   "execution_count": null,
   "id": "30da0bf4-8b8a-48f1-8989-4a551c003d5e",
   "metadata": {},
   "outputs": [
    {
     "name": "stdout",
     "output_type": "stream",
     "text": [
      "              _               _         _                \n",
      "  ___   __ _ | |  ___  _   _ | |  __ _ | |_   ___   _ __ \n",
      " / __| / _` || | / __|| | | || | / _` || __| / _ \\ | '__|\n",
      "| (__ | (_| || || (__ | |_| || || (_| || |_ | (_) || |   \n",
      " \\___| \\__,_||_| \\___| \\__,_||_| \\__,_| \\__| \\___/ |_|   \n",
      "                                                         \n",
      "\n"
     ]
    }
   ],
   "source": [
    "#add \n",
    "def add(n1,n2):\n",
    "    return n1 + n2 \n",
    "#add \n",
    "def sub(n1,n2):\n",
    "    return n1 - n2 \n",
    "#add \n",
    "def multi(n1,n2):\n",
    "    return n1 * n2 \n",
    "#add \n",
    "def dive(n1,n2):\n",
    "    return n1 / n2 \n",
    "\n",
    "operations ={\"+\":add, \n",
    "       \"-\":sub, \n",
    "       \"*\":multi,\n",
    "       \"/\":dive}\n",
    "\n",
    "\n",
    "def calculator():\n",
    "    tprint(\"calculator\")\n",
    "    num1 = float(input(\"What's the first number?: \"))\n",
    "    for symbol in operations:\n",
    "      print(symbol)\n",
    "    should_countinue = True\n",
    "\n",
    "    while should_countinue:\n",
    "        operation_symbol=input(\"pick an operation\")\n",
    "        num2=float(input(\"waht is the next number?  \"))\n",
    "        calculation_function = operations[operation_symbol]\n",
    "        answer = calculation_function(num1, num2)\n",
    "\n",
    "        print(f\"{num1} {operation_symbol}  {num2} = {answer}\")\n",
    "\n",
    "        if input (f\"Type 'y' to countinue calculation with  {answer} , or type 'n' to start a new calculation: \") == 'y':\n",
    "            num1= answer\n",
    "        else:\n",
    "            shuold_countinue = False\n",
    "            calculator()\n",
    "\n",
    "calculator()\n",
    "        "
   ]
  },
  {
   "cell_type": "code",
   "execution_count": null,
   "id": "90fd01c5-34da-420a-928c-241ae1c39b9a",
   "metadata": {},
   "outputs": [],
   "source": []
  }
 ],
 "metadata": {
  "kernelspec": {
   "display_name": "Python 3 (ipykernel)",
   "language": "python",
   "name": "python3"
  },
  "language_info": {
   "codemirror_mode": {
    "name": "ipython",
    "version": 3
   },
   "file_extension": ".py",
   "mimetype": "text/x-python",
   "name": "python",
   "nbconvert_exporter": "python",
   "pygments_lexer": "ipython3",
   "version": "3.11.7"
  }
 },
 "nbformat": 4,
 "nbformat_minor": 5
}
