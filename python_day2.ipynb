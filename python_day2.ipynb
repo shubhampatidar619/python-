{
 "cells": [
  {
   "cell_type": "markdown",
   "metadata": {
    "id": "oKgLzJx1szTm"
   },
   "source": [
    "# Series"
   ]
  },
  {
   "cell_type": "code",
   "execution_count": 3,
   "metadata": {
    "ExecuteTime": {
     "end_time": "2023-09-03T07:05:21.140515Z",
     "start_time": "2023-09-03T07:05:21.128786Z"
    }
   },
   "outputs": [],
   "source": [
    "import pandas as pd\n",
    "import numpy as np"
   ]
  },
  {
   "cell_type": "code",
   "execution_count": 5,
   "metadata": {
    "ExecuteTime": {
     "end_time": "2023-09-03T07:05:30.385288Z",
     "start_time": "2023-09-03T07:05:30.355687Z"
    }
   },
   "outputs": [],
   "source": [
    "L = [1,2,3,4,5]\n",
    "S = pd.Series(L)\n"
   ]
  },
  {
   "cell_type": "code",
   "execution_count": 6,
   "metadata": {
    "ExecuteTime": {
     "end_time": "2023-09-03T07:05:32.631884Z",
     "start_time": "2023-09-03T07:05:32.617138Z"
    }
   },
   "outputs": [
    {
     "name": "stdout",
     "output_type": "stream",
     "text": [
      "[1, 2, 3, 4, 5]\n",
      "0    1\n",
      "1    2\n",
      "2    3\n",
      "3    4\n",
      "4    5\n",
      "dtype: int64\n"
     ]
    }
   ],
   "source": [
    "print(L)\n",
    "print(S)"
   ]
  },
  {
   "cell_type": "code",
   "execution_count": 7,
   "metadata": {
    "ExecuteTime": {
     "end_time": "2023-09-03T07:05:36.686698Z",
     "start_time": "2023-09-03T07:05:36.675785Z"
    }
   },
   "outputs": [
    {
     "data": {
      "text/plain": [
       "pandas.core.series.Series"
      ]
     },
     "execution_count": 7,
     "metadata": {},
     "output_type": "execute_result"
    }
   ],
   "source": [
    "type(S)"
   ]
  },
  {
   "cell_type": "code",
   "execution_count": 8,
   "metadata": {
    "ExecuteTime": {
     "end_time": "2023-09-03T07:05:40.988667Z",
     "start_time": "2023-09-03T07:05:40.977271Z"
    }
   },
   "outputs": [],
   "source": [
    "data = [{'a': 1, 'b': 3, 'date': 2013-9-20 },\n",
    "        {'a': 2, 'b': 6, 'date': 2013-9-20 },\n",
    "        {'a': 7, 'b': 5, 'date': 2013-9-20 }]"
   ]
  },
  {
   "cell_type": "code",
   "execution_count": 9,
   "metadata": {
    "ExecuteTime": {
     "end_time": "2023-09-03T07:05:44.070339Z",
     "start_time": "2023-09-03T07:05:44.058233Z"
    }
   },
   "outputs": [
    {
     "data": {
      "text/plain": [
       "0    {'a': 1, 'b': 3, 'date': 1984}\n",
       "1    {'a': 2, 'b': 6, 'date': 1984}\n",
       "2    {'a': 7, 'b': 5, 'date': 1984}\n",
       "dtype: object"
      ]
     },
     "execution_count": 9,
     "metadata": {},
     "output_type": "execute_result"
    }
   ],
   "source": [
    "pd.Series(data)"
   ]
  },
  {
   "cell_type": "code",
   "execution_count": 10,
   "metadata": {
    "ExecuteTime": {
     "end_time": "2023-09-03T07:05:48.462355Z",
     "start_time": "2023-09-03T07:05:48.448387Z"
    },
    "id": "4M0OEp7kszTo"
   },
   "outputs": [
    {
     "data": {
      "text/plain": [
       "[['a', 'b', 'c', 'd'], [1, 2, 3, 4, 5]]"
      ]
     },
     "execution_count": 10,
     "metadata": {},
     "output_type": "execute_result"
    }
   ],
   "source": [
    "s=[['a','b','c','d'],[1,2,3,4,5]]\n",
    "s"
   ]
  },
  {
   "cell_type": "code",
   "execution_count": 11,
   "metadata": {
    "ExecuteTime": {
     "end_time": "2023-09-03T07:05:57.132890Z",
     "start_time": "2023-09-03T07:05:57.112008Z"
    },
    "id": "JYzSeBqoszTq"
   },
   "outputs": [
    {
     "data": {
      "text/plain": [
       "0       [a, b, c, d]\n",
       "1    [1, 2, 3, 4, 5]\n",
       "dtype: object"
      ]
     },
     "execution_count": 11,
     "metadata": {},
     "output_type": "execute_result"
    }
   ],
   "source": [
    "pd.Series(s)"
   ]
  },
  {
   "cell_type": "code",
   "execution_count": 12,
   "metadata": {
    "ExecuteTime": {
     "end_time": "2023-09-03T07:06:00.831790Z",
     "start_time": "2023-09-03T07:06:00.814690Z"
    }
   },
   "outputs": [
    {
     "data": {
      "text/plain": [
       "0       [a, b, c, d]\n",
       "1    [1, 2, 3, 4, 5]\n",
       "2                  e\n",
       "dtype: object"
      ]
     },
     "execution_count": 12,
     "metadata": {},
     "output_type": "execute_result"
    }
   ],
   "source": [
    "s.append(\"e\")\n",
    "pd.Series(s)"
   ]
  },
  {
   "cell_type": "code",
   "execution_count": 13,
   "metadata": {
    "ExecuteTime": {
     "end_time": "2023-09-03T07:06:03.840262Z",
     "start_time": "2023-09-03T07:06:03.819879Z"
    },
    "id": "Dudc5Jr6szTq"
   },
   "outputs": [
    {
     "data": {
      "text/plain": [
       "['pizza', 'burger', 'shawarma', 'franky', 'sandwitch']"
      ]
     },
     "execution_count": 13,
     "metadata": {},
     "output_type": "execute_result"
    }
   ],
   "source": [
    "snacks = ['pizza','burger','shawarma','franky','sandwitch']\n",
    "snacks"
   ]
  },
  {
   "cell_type": "code",
   "execution_count": 14,
   "metadata": {
    "ExecuteTime": {
     "end_time": "2023-09-03T07:06:06.115774Z",
     "start_time": "2023-09-03T07:06:06.104295Z"
    },
    "id": "EzMxFfUOszTr"
   },
   "outputs": [
    {
     "data": {
      "text/plain": [
       "0        pizza\n",
       "1       burger\n",
       "2     shawarma\n",
       "3       franky\n",
       "4    sandwitch\n",
       "dtype: object"
      ]
     },
     "execution_count": 14,
     "metadata": {},
     "output_type": "execute_result"
    }
   ],
   "source": [
    "pd.Series(snacks)"
   ]
  },
  {
   "cell_type": "code",
   "execution_count": 15,
   "metadata": {
    "ExecuteTime": {
     "end_time": "2023-09-03T07:06:08.782346Z",
     "start_time": "2023-09-03T07:06:08.772068Z"
    },
    "id": "z8zM3dNnszTs"
   },
   "outputs": [
    {
     "data": {
      "text/plain": [
       "['Monday', 'Tuesday', 'Wednesday', 'Thursday', 'Friday']"
      ]
     },
     "execution_count": 15,
     "metadata": {},
     "output_type": "execute_result"
    }
   ],
   "source": [
    "days=['Monday','Tuesday','Wednesday','Thursday','Friday']\n",
    "days"
   ]
  },
  {
   "cell_type": "code",
   "execution_count": 16,
   "metadata": {
    "ExecuteTime": {
     "end_time": "2023-09-03T07:06:11.331025Z",
     "start_time": "2023-09-03T07:06:11.320292Z"
    },
    "id": "8kMXcAbpszTt"
   },
   "outputs": [
    {
     "data": {
      "text/plain": [
       "Monday           pizza\n",
       "Tuesday         burger\n",
       "Wednesday     shawarma\n",
       "Thursday        franky\n",
       "Friday       sandwitch\n",
       "dtype: object"
      ]
     },
     "execution_count": 16,
     "metadata": {},
     "output_type": "execute_result"
    }
   ],
   "source": [
    "s1=pd.Series(data=snacks,index=days)\n",
    "s1"
   ]
  },
  {
   "cell_type": "code",
   "execution_count": 17,
   "metadata": {
    "ExecuteTime": {
     "end_time": "2023-09-03T07:06:14.242132Z",
     "start_time": "2023-09-03T07:06:14.232064Z"
    },
    "id": "cb39vK9vszTt"
   },
   "outputs": [
    {
     "data": {
      "text/plain": [
       "array([10, 20, 30, 40, 50])"
      ]
     },
     "execution_count": 17,
     "metadata": {},
     "output_type": "execute_result"
    }
   ],
   "source": [
    "a=np.array([10,20,30,40,50])\n",
    "a"
   ]
  },
  {
   "cell_type": "code",
   "execution_count": 18,
   "metadata": {
    "ExecuteTime": {
     "end_time": "2023-09-03T07:06:16.722409Z",
     "start_time": "2023-09-03T07:06:16.706987Z"
    },
    "id": "G57WjiFkszTt"
   },
   "outputs": [
    {
     "name": "stdout",
     "output_type": "stream",
     "text": [
      "[10 20 30 40 50]\n"
     ]
    }
   ],
   "source": [
    "print(a)"
   ]
  },
  {
   "cell_type": "code",
   "execution_count": 19,
   "metadata": {
    "ExecuteTime": {
     "end_time": "2023-09-03T07:06:19.399296Z",
     "start_time": "2023-09-03T07:06:19.383154Z"
    },
    "id": "g1t6l47kszTu"
   },
   "outputs": [
    {
     "data": {
      "text/plain": [
       "0    10\n",
       "1    20\n",
       "2    30\n",
       "3    40\n",
       "4    50\n",
       "dtype: int32"
      ]
     },
     "execution_count": 19,
     "metadata": {},
     "output_type": "execute_result"
    }
   ],
   "source": [
    "pd.Series(a)"
   ]
  },
  {
   "cell_type": "code",
   "execution_count": 20,
   "metadata": {
    "ExecuteTime": {
     "end_time": "2023-09-03T07:06:22.093219Z",
     "start_time": "2023-09-03T07:06:22.073172Z"
    },
    "id": "9kpgizU1szTu"
   },
   "outputs": [
    {
     "data": {
      "text/plain": [
       "{'a': 10, 'b': 20, 'c': 30, 'd': 40}"
      ]
     },
     "execution_count": 20,
     "metadata": {},
     "output_type": "execute_result"
    }
   ],
   "source": [
    "dict={'a':10,'b':20,'c':30,'d':40}\n",
    "dict"
   ]
  },
  {
   "cell_type": "code",
   "execution_count": 21,
   "metadata": {
    "ExecuteTime": {
     "end_time": "2023-09-03T07:06:24.381926Z",
     "start_time": "2023-09-03T07:06:24.368016Z"
    },
    "id": "773kJaUtszTv"
   },
   "outputs": [
    {
     "data": {
      "text/plain": [
       "a    10\n",
       "b    20\n",
       "c    30\n",
       "d    40\n",
       "dtype: int64"
      ]
     },
     "execution_count": 21,
     "metadata": {},
     "output_type": "execute_result"
    }
   ],
   "source": [
    "pd.Series(dict)"
   ]
  },
  {
   "cell_type": "markdown",
   "metadata": {
    "id": "tG_1ft7xszTv"
   },
   "source": [
    "# Numpy"
   ]
  },
  {
   "cell_type": "code",
   "execution_count": 22,
   "metadata": {
    "ExecuteTime": {
     "end_time": "2023-09-03T07:06:27.303780Z",
     "start_time": "2023-09-03T07:06:27.282218Z"
    }
   },
   "outputs": [
    {
     "data": {
      "text/plain": [
       "array([1, 2, 3])"
      ]
     },
     "execution_count": 22,
     "metadata": {},
     "output_type": "execute_result"
    }
   ],
   "source": [
    "b =np.array([1,2,3])\n",
    "b"
   ]
  },
  {
   "cell_type": "code",
   "execution_count": 23,
   "metadata": {
    "ExecuteTime": {
     "end_time": "2023-09-03T07:06:29.686824Z",
     "start_time": "2023-09-03T07:06:29.667110Z"
    }
   },
   "outputs": [
    {
     "name": "stdout",
     "output_type": "stream",
     "text": [
      "(3,)\n"
     ]
    }
   ],
   "source": [
    "print(b.shape)"
   ]
  },
  {
   "cell_type": "code",
   "execution_count": 24,
   "metadata": {
    "ExecuteTime": {
     "end_time": "2023-09-03T07:06:32.135079Z",
     "start_time": "2023-09-03T07:06:32.117105Z"
    },
    "id": "XPcN1uZEszTv"
   },
   "outputs": [
    {
     "data": {
      "text/plain": [
       "array([[1, 2, 3, 4],\n",
       "       [4, 5, 6, 7],\n",
       "       [1, 3, 4, 6]])"
      ]
     },
     "execution_count": 24,
     "metadata": {},
     "output_type": "execute_result"
    }
   ],
   "source": [
    "a=np.array([(1,2,3,4),(4,5,6,7),(1,3,4,6)])\n",
    "a"
   ]
  },
  {
   "cell_type": "code",
   "execution_count": 25,
   "metadata": {
    "ExecuteTime": {
     "end_time": "2023-09-03T07:06:34.800571Z",
     "start_time": "2023-09-03T07:06:34.792678Z"
    },
    "id": "JE7fOx3EszTw"
   },
   "outputs": [
    {
     "name": "stdout",
     "output_type": "stream",
     "text": [
      "12\n"
     ]
    }
   ],
   "source": [
    "print(a.size)"
   ]
  },
  {
   "cell_type": "code",
   "execution_count": 26,
   "metadata": {
    "ExecuteTime": {
     "end_time": "2023-09-03T07:06:36.738172Z",
     "start_time": "2023-09-03T07:06:36.724026Z"
    },
    "id": "h7-EMFGBszTw"
   },
   "outputs": [
    {
     "name": "stdout",
     "output_type": "stream",
     "text": [
      "(3, 4)\n"
     ]
    }
   ],
   "source": [
    "print(a.shape)"
   ]
  },
  {
   "cell_type": "code",
   "execution_count": 27,
   "metadata": {
    "ExecuteTime": {
     "end_time": "2023-09-03T07:06:38.797524Z",
     "start_time": "2023-09-03T07:06:38.782998Z"
    },
    "id": "MngoL10wszTw"
   },
   "outputs": [],
   "source": [
    "a= a.reshape(4,3)"
   ]
  },
  {
   "cell_type": "code",
   "execution_count": 28,
   "metadata": {
    "ExecuteTime": {
     "end_time": "2023-09-03T07:06:40.782765Z",
     "start_time": "2023-09-03T07:06:40.771234Z"
    },
    "id": "okuF_hh1szTw"
   },
   "outputs": [
    {
     "name": "stdout",
     "output_type": "stream",
     "text": [
      "[[1 2 3]\n",
      " [4 4 5]\n",
      " [6 7 1]\n",
      " [3 4 6]]\n"
     ]
    }
   ],
   "source": [
    "print(a)"
   ]
  },
  {
   "cell_type": "code",
   "execution_count": 29,
   "metadata": {
    "ExecuteTime": {
     "end_time": "2023-09-03T07:06:44.486463Z",
     "start_time": "2023-09-03T07:06:44.474148Z"
    },
    "id": "xt9wcWwBszTw"
   },
   "outputs": [],
   "source": [
    "a=np.array([(1,2,3,4),(4,5,6,7)])"
   ]
  },
  {
   "cell_type": "code",
   "execution_count": 30,
   "metadata": {
    "ExecuteTime": {
     "end_time": "2023-09-03T07:06:49.587944Z",
     "start_time": "2023-09-03T07:06:49.573426Z"
    },
    "id": "wSkx83hGszTx"
   },
   "outputs": [
    {
     "data": {
      "text/plain": [
       "6"
      ]
     },
     "execution_count": 30,
     "metadata": {},
     "output_type": "execute_result"
    }
   ],
   "source": [
    "a[1,2] ## Accessing values"
   ]
  },
  {
   "cell_type": "code",
   "execution_count": 31,
   "metadata": {
    "ExecuteTime": {
     "end_time": "2023-09-03T07:06:51.876675Z",
     "start_time": "2023-09-03T07:06:51.863214Z"
    },
    "id": "w6aPF8iaszTx"
   },
   "outputs": [
    {
     "name": "stdout",
     "output_type": "stream",
     "text": [
      "10\n"
     ]
    }
   ],
   "source": [
    "b=np.array([1,2,3,4])\n",
    "print(b.sum())"
   ]
  },
  {
   "cell_type": "code",
   "execution_count": 32,
   "metadata": {
    "ExecuteTime": {
     "end_time": "2023-09-03T07:06:54.451233Z",
     "start_time": "2023-09-03T07:06:54.442001Z"
    },
    "id": "aVgY-WwyszTx"
   },
   "outputs": [
    {
     "data": {
      "text/plain": [
       "1"
      ]
     },
     "execution_count": 32,
     "metadata": {},
     "output_type": "execute_result"
    }
   ],
   "source": [
    "a.min()"
   ]
  },
  {
   "cell_type": "code",
   "execution_count": 33,
   "metadata": {
    "ExecuteTime": {
     "end_time": "2023-09-03T07:06:56.628993Z",
     "start_time": "2023-09-03T07:06:56.612689Z"
    },
    "id": "GdKEy86IszTx"
   },
   "outputs": [
    {
     "data": {
      "text/plain": [
       "7"
      ]
     },
     "execution_count": 33,
     "metadata": {},
     "output_type": "execute_result"
    }
   ],
   "source": [
    "a.max()"
   ]
  },
  {
   "cell_type": "code",
   "execution_count": 34,
   "metadata": {
    "ExecuteTime": {
     "end_time": "2023-09-03T07:06:59.002135Z",
     "start_time": "2023-09-03T07:06:58.979098Z"
    },
    "id": "W9jwC7GLszTy"
   },
   "outputs": [
    {
     "data": {
      "text/plain": [
       "32"
      ]
     },
     "execution_count": 34,
     "metadata": {},
     "output_type": "execute_result"
    }
   ],
   "source": [
    "a.sum()"
   ]
  },
  {
   "cell_type": "code",
   "execution_count": 35,
   "metadata": {
    "ExecuteTime": {
     "end_time": "2023-09-03T07:07:01.247076Z",
     "start_time": "2023-09-03T07:07:01.235863Z"
    },
    "id": "Ocw7N90xszTy"
   },
   "outputs": [
    {
     "data": {
      "text/plain": [
       "array([[1, 2, 3, 4],\n",
       "       [4, 5, 6, 7]])"
      ]
     },
     "execution_count": 35,
     "metadata": {},
     "output_type": "execute_result"
    }
   ],
   "source": [
    "a=np.array([(1,2,3,4),(4,5,6,7)])\n",
    "a"
   ]
  },
  {
   "cell_type": "code",
   "execution_count": 36,
   "metadata": {
    "ExecuteTime": {
     "end_time": "2023-09-03T07:07:04.185260Z",
     "start_time": "2023-09-03T07:07:04.174903Z"
    },
    "id": "EmDgJCkyszTy"
   },
   "outputs": [
    {
     "data": {
      "text/plain": [
       "array([ 5,  7,  9, 11])"
      ]
     },
     "execution_count": 36,
     "metadata": {},
     "output_type": "execute_result"
    }
   ],
   "source": [
    "a.sum(axis=0)"
   ]
  },
  {
   "cell_type": "code",
   "execution_count": 37,
   "metadata": {
    "ExecuteTime": {
     "end_time": "2023-09-03T07:07:06.324360Z",
     "start_time": "2023-09-03T07:07:06.309073Z"
    },
    "id": "6EWwY3q9szTy"
   },
   "outputs": [
    {
     "data": {
      "text/plain": [
       "array([10, 22])"
      ]
     },
     "execution_count": 37,
     "metadata": {},
     "output_type": "execute_result"
    }
   ],
   "source": [
    "a.sum(axis=1)"
   ]
  },
  {
   "cell_type": "markdown",
   "metadata": {
    "id": "EspRwQynszTz"
   },
   "source": [
    "## Duplicates"
   ]
  },
  {
   "cell_type": "code",
   "execution_count": null,
   "metadata": {
    "ExecuteTime": {
     "end_time": "2023-09-03T06:39:29.458307Z",
     "start_time": "2023-09-03T06:39:29.458307Z"
    },
    "id": "vkWwxqDNszTz"
   },
   "outputs": [],
   "source": [
    "dup=pd.DataFrame({'col1':['A','A','B','B','B'],'col2':[2,2,2,3,3]})"
   ]
  },
  {
   "cell_type": "code",
   "execution_count": null,
   "metadata": {
    "ExecuteTime": {
     "end_time": "2023-09-03T06:39:29.460316Z",
     "start_time": "2023-09-03T06:39:29.460316Z"
    },
    "id": "FT-Apxr9szTz"
   },
   "outputs": [],
   "source": [
    "dup"
   ]
  },
  {
   "cell_type": "code",
   "execution_count": null,
   "metadata": {
    "ExecuteTime": {
     "end_time": "2023-09-03T06:39:29.462838Z",
     "start_time": "2023-09-03T06:39:29.462838Z"
    }
   },
   "outputs": [],
   "source": [
    "dup.duplicated()"
   ]
  },
  {
   "cell_type": "code",
   "execution_count": null,
   "metadata": {
    "ExecuteTime": {
     "end_time": "2023-09-03T06:39:29.464838Z",
     "start_time": "2023-09-03T06:39:29.464838Z"
    },
    "id": "waxpTMCkszTz",
    "scrolled": true
   },
   "outputs": [],
   "source": [
    "dup[dup.duplicated()]"
   ]
  },
  {
   "cell_type": "code",
   "execution_count": null,
   "metadata": {
    "ExecuteTime": {
     "end_time": "2023-09-03T06:39:29.465837Z",
     "start_time": "2023-09-03T06:39:29.465837Z"
    },
    "id": "KXDub0WXszTz"
   },
   "outputs": [],
   "source": [
    "dup.drop_duplicates()"
   ]
  },
  {
   "cell_type": "markdown",
   "metadata": {
    "id": "TpGhWJgCszT0"
   },
   "source": [
    "## Group By"
   ]
  },
  {
   "cell_type": "code",
   "execution_count": null,
   "metadata": {
    "ExecuteTime": {
     "end_time": "2023-09-03T06:39:29.467837Z",
     "start_time": "2023-09-03T06:39:29.467837Z"
    },
    "id": "H_Nl09W2szT0"
   },
   "outputs": [],
   "source": [
    "df = pd.read_csv('Salaries.csv')"
   ]
  },
  {
   "cell_type": "code",
   "execution_count": null,
   "metadata": {
    "ExecuteTime": {
     "end_time": "2023-09-03T06:39:29.470316Z",
     "start_time": "2023-09-03T06:39:29.470316Z"
    },
    "id": "WOZo9OoYszT0"
   },
   "outputs": [],
   "source": [
    "df"
   ]
  },
  {
   "cell_type": "code",
   "execution_count": null,
   "metadata": {
    "ExecuteTime": {
     "end_time": "2023-09-03T06:39:29.472635Z",
     "start_time": "2023-09-03T06:39:29.472635Z"
    },
    "id": "DanhOT_TszT0"
   },
   "outputs": [],
   "source": [
    "df.columns"
   ]
  },
  {
   "cell_type": "code",
   "execution_count": null,
   "metadata": {
    "ExecuteTime": {
     "end_time": "2023-09-03T06:39:29.474106Z",
     "start_time": "2023-09-03T06:39:29.474106Z"
    },
    "id": "CZESKgTTszT1"
   },
   "outputs": [],
   "source": [
    "df.head()"
   ]
  },
  {
   "cell_type": "code",
   "execution_count": null,
   "metadata": {
    "ExecuteTime": {
     "end_time": "2023-09-03T06:39:29.476416Z",
     "start_time": "2023-09-03T06:39:29.476416Z"
    },
    "id": "YSoeIgGVszT1",
    "scrolled": true
   },
   "outputs": [],
   "source": [
    "df.dtypes"
   ]
  },
  {
   "cell_type": "code",
   "execution_count": null,
   "metadata": {
    "ExecuteTime": {
     "end_time": "2023-09-03T06:39:29.478788Z",
     "start_time": "2023-09-03T06:39:29.478788Z"
    },
    "id": "UgW2n8DeszT1"
   },
   "outputs": [],
   "source": [
    "df.tail()"
   ]
  },
  {
   "cell_type": "code",
   "execution_count": null,
   "metadata": {
    "ExecuteTime": {
     "end_time": "2023-09-03T06:39:29.481133Z",
     "start_time": "2023-09-03T06:39:29.481133Z"
    },
    "id": "6rDFXtmAszT1"
   },
   "outputs": [],
   "source": [
    "df.describe()"
   ]
  },
  {
   "cell_type": "code",
   "execution_count": null,
   "metadata": {
    "ExecuteTime": {
     "end_time": "2023-09-03T06:39:29.482974Z",
     "start_time": "2023-09-03T06:39:29.482974Z"
    },
    "id": "DKoTZzNgszT2"
   },
   "outputs": [],
   "source": [
    "df.max()"
   ]
  },
  {
   "cell_type": "code",
   "execution_count": null,
   "metadata": {
    "ExecuteTime": {
     "end_time": "2023-09-03T06:39:29.485799Z",
     "start_time": "2023-09-03T06:39:29.485799Z"
    },
    "id": "QETWdHdIszT2"
   },
   "outputs": [],
   "source": [
    "df[\"salary\"].max()"
   ]
  },
  {
   "cell_type": "code",
   "execution_count": null,
   "metadata": {
    "ExecuteTime": {
     "end_time": "2023-09-03T06:39:29.487819Z",
     "start_time": "2023-09-03T06:39:29.487819Z"
    },
    "id": "qzhUJMzPszT2"
   },
   "outputs": [],
   "source": [
    "df.mean()"
   ]
  },
  {
   "cell_type": "code",
   "execution_count": null,
   "metadata": {
    "ExecuteTime": {
     "end_time": "2023-09-03T06:39:29.490339Z",
     "start_time": "2023-09-03T06:39:29.490339Z"
    }
   },
   "outputs": [],
   "source": [
    "df.head(3)"
   ]
  },
  {
   "cell_type": "code",
   "execution_count": null,
   "metadata": {
    "ExecuteTime": {
     "end_time": "2023-09-03T06:39:29.491908Z",
     "start_time": "2023-09-03T06:39:29.491908Z"
    }
   },
   "outputs": [],
   "source": [
    "df[\"rank\"].value_counts()"
   ]
  },
  {
   "cell_type": "code",
   "execution_count": null,
   "metadata": {},
   "outputs": [],
   "source": []
  },
  {
   "cell_type": "code",
   "execution_count": null,
   "metadata": {
    "ExecuteTime": {
     "end_time": "2023-09-03T06:39:29.492857Z",
     "start_time": "2023-09-03T06:39:29.492857Z"
    },
    "id": "93y-u4YzszT2"
   },
   "outputs": [],
   "source": [
    "df.sex.value_counts()"
   ]
  },
  {
   "cell_type": "code",
   "execution_count": null,
   "metadata": {
    "ExecuteTime": {
     "end_time": "2023-09-03T06:39:29.494860Z",
     "start_time": "2023-09-03T06:39:29.494860Z"
    },
    "id": "eAj7Nu3lszT2"
   },
   "outputs": [],
   "source": [
    "df[\"salary\"]"
   ]
  },
  {
   "cell_type": "code",
   "execution_count": null,
   "metadata": {
    "ExecuteTime": {
     "end_time": "2023-09-03T06:39:29.496860Z",
     "start_time": "2023-09-03T06:39:29.496860Z"
    },
    "id": "a_nx7QF7szT3"
   },
   "outputs": [],
   "source": [
    "df.describe()"
   ]
  },
  {
   "cell_type": "code",
   "execution_count": null,
   "metadata": {
    "ExecuteTime": {
     "end_time": "2023-09-03T06:39:29.497862Z",
     "start_time": "2023-09-03T06:39:29.497862Z"
    }
   },
   "outputs": [],
   "source": [
    "df[[\"phd\",\"salary\",\"rank\"]].describe(include=\"all\")"
   ]
  },
  {
   "cell_type": "code",
   "execution_count": null,
   "metadata": {
    "ExecuteTime": {
     "end_time": "2023-09-03T06:39:29.499867Z",
     "start_time": "2023-09-03T06:39:29.499867Z"
    },
    "id": "fhuKhAnzszT3"
   },
   "outputs": [],
   "source": [
    "df.phd.count()"
   ]
  },
  {
   "cell_type": "code",
   "execution_count": null,
   "metadata": {
    "ExecuteTime": {
     "end_time": "2023-09-03T06:39:29.502405Z",
     "start_time": "2023-09-03T06:39:29.502405Z"
    },
    "id": "iI4rVbTgszT3"
   },
   "outputs": [],
   "source": [
    "df.phd.mean()"
   ]
  },
  {
   "cell_type": "code",
   "execution_count": null,
   "metadata": {},
   "outputs": [],
   "source": []
  },
  {
   "cell_type": "code",
   "execution_count": null,
   "metadata": {
    "ExecuteTime": {
     "end_time": "2023-09-03T06:39:29.504421Z",
     "start_time": "2023-09-03T06:39:29.504421Z"
    }
   },
   "outputs": [],
   "source": [
    "df.head()"
   ]
  },
  {
   "cell_type": "code",
   "execution_count": null,
   "metadata": {
    "ExecuteTime": {
     "end_time": "2023-09-03T06:39:29.506417Z",
     "start_time": "2023-09-03T06:39:29.506417Z"
    },
    "id": "rSX2eyiHszT3",
    "scrolled": true
   },
   "outputs": [],
   "source": [
    "df.groupby(['rank']).sum()"
   ]
  },
  {
   "cell_type": "code",
   "execution_count": null,
   "metadata": {
    "ExecuteTime": {
     "end_time": "2023-09-03T06:39:29.507813Z",
     "start_time": "2023-09-03T06:39:29.507813Z"
    },
    "id": "p16osnntszT3"
   },
   "outputs": [],
   "source": [
    "df.groupby(['rank','sex','discipline'])[['salary','phd']].mean()"
   ]
  },
  {
   "cell_type": "code",
   "execution_count": null,
   "metadata": {
    "ExecuteTime": {
     "end_time": "2023-09-03T06:39:29.509824Z",
     "start_time": "2023-09-03T06:39:29.509824Z"
    },
    "id": "ZPF9BeRiszT4"
   },
   "outputs": [],
   "source": [
    "df[df.salary>120000]"
   ]
  },
  {
   "cell_type": "code",
   "execution_count": null,
   "metadata": {
    "ExecuteTime": {
     "end_time": "2023-09-03T06:39:29.511822Z",
     "start_time": "2023-09-03T06:39:29.511822Z"
    },
    "id": "IXWw-02aszT4"
   },
   "outputs": [],
   "source": [
    "df.iloc[1:4, 0:3]"
   ]
  },
  {
   "cell_type": "code",
   "execution_count": null,
   "metadata": {
    "ExecuteTime": {
     "end_time": "2023-09-03T06:39:29.514112Z",
     "start_time": "2023-09-03T06:39:29.514112Z"
    },
    "id": "h6fbz5GJszT4"
   },
   "outputs": [],
   "source": [
    "df.iloc[0:10,0:3]"
   ]
  },
  {
   "cell_type": "code",
   "execution_count": null,
   "metadata": {
    "ExecuteTime": {
     "end_time": "2023-09-03T06:39:29.517103Z",
     "start_time": "2023-09-03T06:39:29.517103Z"
    },
    "id": "kvUNos9-szT4"
   },
   "outputs": [],
   "source": [
    "df.iloc[0:2,]"
   ]
  },
  {
   "cell_type": "code",
   "execution_count": null,
   "metadata": {
    "ExecuteTime": {
     "end_time": "2023-09-03T06:39:29.520101Z",
     "start_time": "2023-09-03T06:39:29.520101Z"
    },
    "id": "DpyebT2TszT4"
   },
   "outputs": [],
   "source": [
    "df.iloc[:,4]"
   ]
  },
  {
   "cell_type": "markdown",
   "metadata": {
    "id": "fc1iIZnvszT5"
   },
   "source": [
    "## Distribution plots"
   ]
  },
  {
   "cell_type": "code",
   "execution_count": null,
   "metadata": {
    "ExecuteTime": {
     "end_time": "2023-09-03T06:39:29.522108Z",
     "start_time": "2023-09-03T06:39:29.522108Z"
    },
    "id": "74vbmYEKszT5"
   },
   "outputs": [],
   "source": [
    "import warnings\n",
    "warnings.filterwarnings('ignore')"
   ]
  },
  {
   "cell_type": "code",
   "execution_count": null,
   "metadata": {
    "ExecuteTime": {
     "end_time": "2023-09-03T06:39:29.526214Z",
     "start_time": "2023-09-03T06:39:29.526214Z"
    },
    "executionInfo": {
     "elapsed": 1255,
     "status": "ok",
     "timestamp": 1680836506480,
     "user": {
      "displayName": "Srijit Panja",
      "userId": "08280687544370309018"
     },
     "user_tz": -330
    },
    "id": "6lWUWRwZszT5"
   },
   "outputs": [],
   "source": [
    "import pandas as pd\n",
    "import numpy as np\n",
    "import matplotlib.pyplot as plt\n",
    "import seaborn as sns"
   ]
  },
  {
   "cell_type": "code",
   "execution_count": null,
   "metadata": {
    "ExecuteTime": {
     "end_time": "2023-09-03T06:39:29.527215Z",
     "start_time": "2023-09-03T06:39:29.527215Z"
    },
    "executionInfo": {
     "elapsed": 4,
     "status": "ok",
     "timestamp": 1680836643233,
     "user": {
      "displayName": "Srijit Panja",
      "userId": "08280687544370309018"
     },
     "user_tz": -330
    },
    "id": "49mp_NgmszT6"
   },
   "outputs": [],
   "source": [
    "df1 = pd.read_csv('Universities.csv')"
   ]
  },
  {
   "cell_type": "code",
   "execution_count": null,
   "metadata": {
    "ExecuteTime": {
     "end_time": "2023-09-03T06:39:29.529212Z",
     "start_time": "2023-09-03T06:39:29.529212Z"
    },
    "colab": {
     "base_uri": "https://localhost:8080/",
     "height": 833
    },
    "executionInfo": {
     "elapsed": 491,
     "status": "ok",
     "timestamp": 1680836746620,
     "user": {
      "displayName": "Srijit Panja",
      "userId": "08280687544370309018"
     },
     "user_tz": -330
    },
    "id": "cg0I0pqyrUcH",
    "outputId": "025da310-0d23-4dbe-e8b1-7e9b2c96f3db"
   },
   "outputs": [],
   "source": [
    "df1"
   ]
  },
  {
   "cell_type": "code",
   "execution_count": null,
   "metadata": {
    "ExecuteTime": {
     "end_time": "2023-09-03T06:39:29.531727Z",
     "start_time": "2023-09-03T06:39:29.531727Z"
    },
    "colab": {
     "base_uri": "https://localhost:8080/",
     "height": 482
    },
    "executionInfo": {
     "elapsed": 558,
     "status": "ok",
     "timestamp": 1680836867198,
     "user": {
      "displayName": "Srijit Panja",
      "userId": "08280687544370309018"
     },
     "user_tz": -330
    },
    "id": "PsI2rgo_szT6",
    "outputId": "b4e990df-ce86-4e82-866a-2f8b6920c818"
   },
   "outputs": [],
   "source": [
    "plt.hist(df1['Expenses'],bins=20, color='green')"
   ]
  },
  {
   "cell_type": "code",
   "execution_count": null,
   "metadata": {
    "ExecuteTime": {
     "end_time": "2023-09-03T06:39:29.533739Z",
     "start_time": "2023-09-03T06:39:29.533739Z"
    },
    "colab": {
     "base_uri": "https://localhost:8080/",
     "height": 657
    },
    "executionInfo": {
     "elapsed": 594,
     "status": "ok",
     "timestamp": 1680837000941,
     "user": {
      "displayName": "Srijit Panja",
      "userId": "08280687544370309018"
     },
     "user_tz": -330
    },
    "id": "T7p5XKaeszT6",
    "outputId": "7022b8a0-2436-4ec9-b9e0-d5957fae8742"
   },
   "outputs": [],
   "source": [
    "sns.distplot(df1['Top10'])"
   ]
  },
  {
   "cell_type": "code",
   "execution_count": null,
   "metadata": {
    "ExecuteTime": {
     "end_time": "2023-09-03T06:39:29.535747Z",
     "start_time": "2023-09-03T06:39:29.535747Z"
    },
    "colab": {
     "base_uri": "https://localhost:8080/",
     "height": 466
    },
    "executionInfo": {
     "elapsed": 519,
     "status": "ok",
     "timestamp": 1680837332778,
     "user": {
      "displayName": "Srijit Panja",
      "userId": "08280687544370309018"
     },
     "user_tz": -330
    },
    "id": "v_Mz3yX6szT7",
    "outputId": "8372019c-c581-4722-d040-0c303545ffbd"
   },
   "outputs": [],
   "source": [
    "sns.scatterplot(x='SAT',y='Accept',data=df1)"
   ]
  },
  {
   "cell_type": "code",
   "execution_count": null,
   "metadata": {
    "ExecuteTime": {
     "end_time": "2023-09-03T06:39:29.537737Z",
     "start_time": "2023-09-03T06:39:29.537737Z"
    }
   },
   "outputs": [],
   "source": [
    "df1.head(2)"
   ]
  },
  {
   "cell_type": "code",
   "execution_count": null,
   "metadata": {
    "ExecuteTime": {
     "end_time": "2023-09-03T06:39:29.538738Z",
     "start_time": "2023-09-03T06:39:29.538738Z"
    },
    "colab": {
     "base_uri": "https://localhost:8080/",
     "height": 881
    },
    "executionInfo": {
     "elapsed": 12216,
     "status": "ok",
     "timestamp": 1680837376258,
     "user": {
      "displayName": "Srijit Panja",
      "userId": "08280687544370309018"
     },
     "user_tz": -330
    },
    "id": "gDYCJRYKszT7",
    "outputId": "99eb23a6-f679-4acb-999d-d682a5353626"
   },
   "outputs": [],
   "source": [
    "sns.pairplot(df1)"
   ]
  },
  {
   "cell_type": "code",
   "execution_count": null,
   "metadata": {
    "ExecuteTime": {
     "end_time": "2023-09-03T06:39:29.540739Z",
     "start_time": "2023-09-03T06:39:29.540739Z"
    },
    "colab": {
     "base_uri": "https://localhost:8080/"
    },
    "executionInfo": {
     "elapsed": 409,
     "status": "ok",
     "timestamp": 1680837633201,
     "user": {
      "displayName": "Srijit Panja",
      "userId": "08280687544370309018"
     },
     "user_tz": -330
    },
    "id": "-0JnnobDszT7",
    "outputId": "e4bce957-9d67-404c-a5af-a72669f704ee"
   },
   "outputs": [],
   "source": [
    "df1.skew()"
   ]
  },
  {
   "cell_type": "code",
   "execution_count": null,
   "metadata": {
    "ExecuteTime": {
     "end_time": "2023-09-03T06:39:29.543789Z",
     "start_time": "2023-09-03T06:39:29.543789Z"
    },
    "colab": {
     "base_uri": "https://localhost:8080/"
    },
    "executionInfo": {
     "elapsed": 411,
     "status": "ok",
     "timestamp": 1680837715403,
     "user": {
      "displayName": "Srijit Panja",
      "userId": "08280687544370309018"
     },
     "user_tz": -330
    },
    "id": "3eC3UoX6szT8",
    "outputId": "7d46405a-2042-4f6c-9c80-d6c0c433ec74"
   },
   "outputs": [],
   "source": [
    "df1.kurt()"
   ]
  },
  {
   "cell_type": "code",
   "execution_count": null,
   "metadata": {
    "ExecuteTime": {
     "end_time": "2023-09-03T06:39:29.545792Z",
     "start_time": "2023-09-03T06:39:29.545792Z"
    },
    "colab": {
     "base_uri": "https://localhost:8080/",
     "height": 569
    },
    "executionInfo": {
     "elapsed": 458,
     "status": "ok",
     "timestamp": 1680837756282,
     "user": {
      "displayName": "Srijit Panja",
      "userId": "08280687544370309018"
     },
     "user_tz": -330
    },
    "id": "6-VLiRQWszT8",
    "outputId": "339a7e4f-91a8-44c4-f18b-7755f16126fa"
   },
   "outputs": [],
   "source": [
    "plt.boxplot(df1[\"SAT\"],vert = False)"
   ]
  },
  {
   "cell_type": "code",
   "execution_count": null,
   "metadata": {
    "id": "Rv-cOURVszT8"
   },
   "outputs": [],
   "source": []
  },
  {
   "cell_type": "code",
   "execution_count": null,
   "metadata": {},
   "outputs": [],
   "source": []
  }
 ],
 "metadata": {
  "colab": {
   "provenance": []
  },
  "kernelspec": {
   "display_name": "Python 3 (ipykernel)",
   "language": "python",
   "name": "python3"
  },
  "language_info": {
   "codemirror_mode": {
    "name": "ipython",
    "version": 3
   },
   "file_extension": ".py",
   "mimetype": "text/x-python",
   "name": "python",
   "nbconvert_exporter": "python",
   "pygments_lexer": "ipython3",
   "version": "3.10.9"
  }
 },
 "nbformat": 4,
 "nbformat_minor": 1
}
