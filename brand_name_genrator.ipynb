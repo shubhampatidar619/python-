{
 "cells": [
  {
   "cell_type": "code",
   "execution_count": 2,
   "id": "14bdff1e-c7d1-470b-9a49-698561385a2d",
   "metadata": {},
   "outputs": [
    {
     "name": "stdout",
     "output_type": "stream",
     "text": [
      "welcome to the brand name genrator\n"
     ]
    },
    {
     "name": "stdin",
     "output_type": "stream",
     "text": [
      "enter the city name you grew up in?\n",
      " indore\n",
      "what is the name of your pet?\n",
      " mac\n"
     ]
    },
    {
     "name": "stdout",
     "output_type": "stream",
     "text": [
      "your band name could be indore mac\n"
     ]
    }
   ],
   "source": [
    "#1. Create a greeting for your program\n",
    "print(\"welcome to the brand name genrator\")\n",
    "\n",
    "#2. Ask the user for the city that they grew up in.\n",
    "city=input(\"enter the city name you grew up in?\\n\")\n",
    "\n",
    "#3. Ask the user for the name of a pet.\n",
    "pet=input(\"what is the name of your pet?\\n\")\n",
    "\n",
    "#4. Combine the name of their city and pet and show them their band name.\n",
    "print(\"your band name could be \" + city + \" \" + pet )"
   ]
  },
  {
   "cell_type": "code",
   "execution_count": null,
   "id": "8db0f253-eb95-4b57-bf11-a94650a3b966",
   "metadata": {},
   "outputs": [],
   "source": []
  }
 ],
 "metadata": {
  "kernelspec": {
   "display_name": "Python 3 (ipykernel)",
   "language": "python",
   "name": "python3"
  },
  "language_info": {
   "codemirror_mode": {
    "name": "ipython",
    "version": 3
   },
   "file_extension": ".py",
   "mimetype": "text/x-python",
   "name": "python",
   "nbconvert_exporter": "python",
   "pygments_lexer": "ipython3",
   "version": "3.11.7"
  }
 },
 "nbformat": 4,
 "nbformat_minor": 5
}
