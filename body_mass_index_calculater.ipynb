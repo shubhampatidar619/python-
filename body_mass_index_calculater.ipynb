{
 "cells": [
  {
   "cell_type": "code",
   "execution_count": 4,
   "id": "2e7f3e46",
   "metadata": {},
   "outputs": [
    {
     "name": "stdin",
     "output_type": "stream",
     "text": [
      "enter the height in meter 1.63\n",
      "enter the weight in kg 69\n"
     ]
    },
    {
     "name": "stdout",
     "output_type": "stream",
     "text": [
      "25\n"
     ]
    }
   ],
   "source": [
    "#bmi calculater\n",
    "\n",
    "#enter the body height in meter\n",
    "height=input(\"enter the height in meter\")\n",
    "\n",
    "#enter the body weight in kg \n",
    "weight=input(\"enter the weight in kg\")\n",
    "\n",
    "#bmi=weight/height**2\n",
    "\n",
    "bmi=int(weight)/float(height)**2\n",
    "bmi_int=int(bmi)\n",
    "print(bmi_int)"
   ]
  },
  {
   "cell_type": "markdown",
   "id": "f4d54909-9909-47f0-86a5-c1185ce431f8",
   "metadata": {},
   "source": [
    "###### "
   ]
  }
 ],
 "metadata": {
  "kernelspec": {
   "display_name": "Python 3 (ipykernel)",
   "language": "python",
   "name": "python3"
  },
  "language_info": {
   "codemirror_mode": {
    "name": "ipython",
    "version": 3
   },
   "file_extension": ".py",
   "mimetype": "text/x-python",
   "name": "python",
   "nbconvert_exporter": "python",
   "pygments_lexer": "ipython3",
   "version": "3.11.7"
  }
 },
 "nbformat": 4,
 "nbformat_minor": 5
}
