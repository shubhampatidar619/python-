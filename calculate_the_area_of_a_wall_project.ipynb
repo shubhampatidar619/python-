{
 "cells": [
  {
   "cell_type": "raw",
   "id": "72b7a405-2ba4-4a56-8424-68dd5d0e01b4",
   "metadata": {},
   "source": [
    "## You are painting a wall. The instructions on the paint can says that 1 can of paint can cover 5 square meters of wall. Given a random height and width of wall, calculate how many cans of paint you'll need to buy.\n",
    "\n",
    "## number of cans = (wall height x wall width) ÷ coverage per can.\n",
    "\n",
    "## e.g. Height = 2, Width = 4, Coverage = 5\n",
    "\n",
    "## number of cans = (2 * 4) / 5\n",
    "               = 1.6\n",
    "## But because you can't buy 0.6 of a can of paint, the result should be rounded up to 2 cans.\n",
    "\n",
    "## IMPORTANT: Notice the name of the function and parameters must match those on line 13 for the code to work."
   ]
  },
  {
   "cell_type": "code",
   "execution_count": 15,
   "id": "1cc48b9d-0f6a-4b9e-b9f2-ef212b1a1ebd",
   "metadata": {},
   "outputs": [
    {
     "name": "stdin",
     "output_type": "stream",
     "text": [
      "Enter the height of the wall:  5\n",
      "Enter the width of the wall:  6\n"
     ]
    },
    {
     "name": "stdout",
     "output_type": "stream",
     "text": [
      "you will need 6 can of paint .\n"
     ]
    }
   ],
   "source": [
    "\n",
    "\n",
    "\n",
    "import math \n",
    "\n",
    "def paint_calc(height, width , cover):\n",
    "    num_cans = (height * width ) / cover \n",
    "    round_up_cans = math.ceil (num_cans)\n",
    "    print(f\"you will need {round_up_cans} can of paint .\")\n",
    "\n",
    "# Get user input for height and width\n",
    "text_h = int(input(\"Enter the height of the wall: \"))\n",
    "text_w = int(input(\"Enter the width of the wall: \"))\n",
    "\n",
    "# Define coverage\n",
    "coverage = 5\n",
    "\n",
    "# Call the function with the input values\n",
    "paint_calc(height=text_h, width=text_w, cover=coverage)"
   ]
  },
  {
   "cell_type": "code",
   "execution_count": null,
   "id": "899e900b-d755-4b32-8038-3b3400f0e1e6",
   "metadata": {},
   "outputs": [],
   "source": []
  },
  {
   "cell_type": "code",
   "execution_count": null,
   "id": "5d46267c-02f6-4a6e-b9b4-1c22b22b5116",
   "metadata": {},
   "outputs": [],
   "source": []
  },
  {
   "cell_type": "code",
   "execution_count": null,
   "id": "fca9b23a-0978-452f-8cde-4b4ba321f9b2",
   "metadata": {},
   "outputs": [],
   "source": []
  },
  {
   "cell_type": "code",
   "execution_count": null,
   "id": "2a29af4a-0a3c-4f3c-aeaa-9ec1526f46fe",
   "metadata": {},
   "outputs": [],
   "source": []
  },
  {
   "cell_type": "code",
   "execution_count": null,
   "id": "6d874e73-2092-4a98-995f-2176c1dccd43",
   "metadata": {},
   "outputs": [],
   "source": []
  }
 ],
 "metadata": {
  "kernelspec": {
   "display_name": "Python 3 (ipykernel)",
   "language": "python",
   "name": "python3"
  },
  "language_info": {
   "codemirror_mode": {
    "name": "ipython",
    "version": 3
   },
   "file_extension": ".py",
   "mimetype": "text/x-python",
   "name": "python",
   "nbconvert_exporter": "python",
   "pygments_lexer": "ipython3",
   "version": "3.11.7"
  }
 },
 "nbformat": 4,
 "nbformat_minor": 5
}
