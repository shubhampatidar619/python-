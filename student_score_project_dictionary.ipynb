{
 "cells": [
  {
   "cell_type": "raw",
   "id": "c3903ebe-bbde-438c-9487-3056db97a37c",
   "metadata": {},
   "source": [
    "    <!-- Instructions\n",
    "    You have access to a database of student_scores in the format of a dictionary. The keys in student_scores are the names of the students and the values are their exam scores.\n",
    "    \n",
    "    Write a program that converts their scores to grades. By the end of your program, you should have a new dictionary called student_grades that should contain student names for keys and their grades for values.\n",
    "    \n",
    "    The final version of the student_grades dictionary will be checked.\n",
    "    \n",
    "    DO NOT modify lines 1-7 to change the existing student_scores dictionary.\n",
    "    \n",
    "    DO NOT write any print statements.\n",
    "    \n",
    "    This is the scoring criteria:\n",
    "    \n",
    "    Scores 91 - 100: Grade = \"Outstanding\"\n",
    "    \n",
    "    Scores 81 - 90: Grade = \"Exceeds Expectations\"\n",
    "    \n",
    "    Scores 71 - 80: Grade = \"Acceptable\"\n",
    "    \n",
    "    Scores 70 or lower: Grade = \"Fail\"\n",
    "    \n",
    "    Expected Output -->\n"
   ]
  },
  {
   "cell_type": "code",
   "execution_count": 1,
   "id": "4a134d1b-d574-4a04-836a-fcb6d7321219",
   "metadata": {},
   "outputs": [],
   "source": [
    "student_scores = {\n",
    "  \"Harry\": 81,\n",
    "  \"Ron\": 78,\n",
    "  \"Hermione\": 99, \n",
    "  \"Draco\": 74,\n",
    "  \"Neville\": 62,\n",
    "}"
   ]
  },
  {
   "cell_type": "code",
   "execution_count": 3,
   "id": "d000dbba-8b53-4fa7-b7b2-f44eba4a022f",
   "metadata": {},
   "outputs": [
    {
     "name": "stdout",
     "output_type": "stream",
     "text": [
      "{'Harry': 'Exceeds Expectations', 'Ron': 'Acceptable', 'Hermione': 'Outstanding', 'Draco': 'Acceptable', 'Neville': 'Fail'}\n"
     ]
    }
   ],
   "source": [
    "student_grades = {}\n",
    "for students in student_scores:\n",
    "  score = student_scores[students]\n",
    "  if score > 90 :\n",
    "    student_grades[students] = \"Outstanding\"\n",
    "  elif score > 80 :\n",
    "    student_grades[students] = \"Exceeds Expectations\"\n",
    "  elif score > 70 :\n",
    "    student_grades[students] = \"Acceptable\"\n",
    "  else:\n",
    "    student_grades[students] = \"Fail\"\n",
    "\n",
    "print(student_grades)"
   ]
  },
  {
   "cell_type": "code",
   "execution_count": null,
   "id": "40448ad7-a6b8-4aa3-8a3d-2a624ac73d2c",
   "metadata": {},
   "outputs": [],
   "source": []
  }
 ],
 "metadata": {
  "kernelspec": {
   "display_name": "Python 3 (ipykernel)",
   "language": "python",
   "name": "python3"
  },
  "language_info": {
   "codemirror_mode": {
    "name": "ipython",
    "version": 3
   },
   "file_extension": ".py",
   "mimetype": "text/x-python",
   "name": "python",
   "nbconvert_exporter": "python",
   "pygments_lexer": "ipython3",
   "version": "3.11.7"
  }
 },
 "nbformat": 4,
 "nbformat_minor": 5
}
