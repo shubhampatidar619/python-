{
 "cells": [
  {
   "cell_type": "code",
   "execution_count": 7,
   "id": "166690ab",
   "metadata": {
    "ExecuteTime": {
     "end_time": "2022-12-30T10:58:42.483145Z",
     "start_time": "2022-12-30T10:58:42.458971Z"
    }
   },
   "outputs": [
    {
     "name": "stdout",
     "output_type": "stream",
     "text": [
      "welcome to the rollercoster.\n"
     ]
    },
    {
     "name": "stdin",
     "output_type": "stream",
     "text": [
      "what is your height in cm? 125\n"
     ]
    },
    {
     "name": "stdout",
     "output_type": "stream",
     "text": [
      "you can ride the rollercoster\n"
     ]
    },
    {
     "name": "stdin",
     "output_type": "stream",
     "text": [
      "what is your age. 24\n"
     ]
    },
    {
     "name": "stdout",
     "output_type": "stream",
     "text": [
      "price for the adult is $ 12\n"
     ]
    },
    {
     "name": "stdin",
     "output_type": "stream",
     "text": [
      "do you want to click photo Y or N? Y\n"
     ]
    },
    {
     "name": "stdout",
     "output_type": "stream",
     "text": [
      " your final bill is $15.\n"
     ]
    }
   ],
   "source": [
    "print(\"welcome to the rollercoster.\")\n",
    "\n",
    "height = int(input(\"what is your height in cm?\"))\n",
    "bill=0\n",
    "\n",
    "if height >=120:\n",
    "    print(\"you can ride the rollercoster\")\n",
    "    age=int(input(\"what is your age.\"))\n",
    "    if age <12 :\n",
    "        bill= 5\n",
    "        print(\"price for the child is $5\")\n",
    "    elif age <18:\n",
    "        bill=7\n",
    "        print(\"price for the youth is $ 7\")\n",
    "    else:\n",
    "        bill= 12\n",
    "        print(\"price for the adult is $ 12\")\n",
    "    photo=input(\"do you want to click photo Y or N?\")\n",
    "    if photo == \"Y\" :\n",
    "        (\"add $3 extra on bill\")\n",
    "        bill +=3\n",
    "        print(f\" your final bill is ${bill}.\")\n",
    "    \n",
    "else:\n",
    "    print(\"sorry you have to grow taller for the rollercoster ride\")\n",
    "    \n",
    "    \n",
    "\n",
    "           \n"
   ]
  },
  {
   "cell_type": "code",
   "execution_count": null,
   "id": "d4150dec",
   "metadata": {},
   "outputs": [],
   "source": []
  }
 ],
 "metadata": {
  "kernelspec": {
   "display_name": "Python 3 (ipykernel)",
   "language": "python",
   "name": "python3"
  },
  "language_info": {
   "codemirror_mode": {
    "name": "ipython",
    "version": 3
   },
   "file_extension": ".py",
   "mimetype": "text/x-python",
   "name": "python",
   "nbconvert_exporter": "python",
   "pygments_lexer": "ipython3",
   "version": "3.11.7"
  }
 },
 "nbformat": 4,
 "nbformat_minor": 5
}
