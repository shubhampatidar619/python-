{
 "cells": [
  {
   "cell_type": "code",
   "execution_count": 6,
   "id": "d74728a7-92ec-4021-8783-220a15ed07af",
   "metadata": {},
   "outputs": [
    {
     "name": "stdout",
     "output_type": "stream",
     "text": [
      "The Love Calculator is calculating your score...\n"
     ]
    },
    {
     "name": "stdin",
     "output_type": "stream",
     "text": [
      " mayank dubey\n",
      " maya sharma\n"
     ]
    },
    {
     "name": "stdout",
     "output_type": "stream",
     "text": [
      "Your score is 31.\n"
     ]
    }
   ],
   "source": [
    "print(\"The Love Calculator is calculating your score...\")\n",
    "name1 = input() # What is your name?\n",
    "name2 = input() # What is their name?\n",
    "\n",
    "combo=name1+name2\n",
    "lower_name=combo.lower()\n",
    "t=lower_name.count(\"t\")\n",
    "r=lower_name.count(\"r\")\n",
    "u=lower_name.count(\"u\")\n",
    "e=lower_name.count(\"e\")\n",
    "\n",
    "first_digit=t+r+u+e\n",
    "\n",
    "l=lower_name.count(\"l\")\n",
    "o=lower_name.count(\"o\")\n",
    "v=lower_name.count(\"v\")\n",
    "e=lower_name.count(\"e\")\n",
    "\n",
    "second_digit=l+o+v+e\n",
    "\n",
    "score=int(str(first_digit)+str(second_digit))\n",
    "\n",
    "if (score <10) or (score>90):\n",
    "  print(f\"Your score is {score}, you go together like coke and mentos.\")\n",
    "elif (score >= 40) and (score <= 50):\n",
    "  print(f\"Your score is {score}, you are alright together.\")\n",
    "else :\n",
    "  print(f\"Your score is {score}.\")\n"
   ]
  },
  {
   "cell_type": "code",
   "execution_count": null,
   "id": "a3ace5d1-471e-4704-baa8-6b3a5a1b2ea9",
   "metadata": {},
   "outputs": [],
   "source": []
  }
 ],
 "metadata": {
  "kernelspec": {
   "display_name": "Python 3 (ipykernel)",
   "language": "python",
   "name": "python3"
  },
  "language_info": {
   "codemirror_mode": {
    "name": "ipython",
    "version": 3
   },
   "file_extension": ".py",
   "mimetype": "text/x-python",
   "name": "python",
   "nbconvert_exporter": "python",
   "pygments_lexer": "ipython3",
   "version": "3.11.7"
  }
 },
 "nbformat": 4,
 "nbformat_minor": 5
}
